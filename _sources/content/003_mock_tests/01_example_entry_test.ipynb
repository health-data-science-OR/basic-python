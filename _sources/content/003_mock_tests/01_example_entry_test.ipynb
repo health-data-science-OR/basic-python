{
 "cells": [
  {
   "cell_type": "markdown",
   "metadata": {},
   "source": [
    "# **Example Python Entry Test 01**\n",
    "## MSc Health Data Science, University of Exeter Medical School\n",
    "\n",
    "\n",
    "> This is an **EXAMPLE** entry test to help you prepare for the real entry test.  Questions in your actual test will vary. \n",
    "\n",
    "\n",
    "\n",
    "**The entry test is designed to evaluate your understanding of the basics of coding in Python 3.x**\n",
    "\n",
    "Please practice your python skills before taking the test.  **You must be proficient** in the following syllubus:\n",
    "\n",
    "* Python variables\n",
    "* String manipulation\n",
    "* Creating, manipulating, searching, sorting, filtering and modifying lists and items within them.\n",
    "* Conditional `if-elif-else` statements\n",
    "* Iteration, for example, `for`, `while` and list comprehensions.\n",
    "* Creating functions that accept parameters and return individual variables and tuples.\n",
    "* The basics of working with files and input/output.\n",
    "* Coding basic mathematical formulas.\n",
    "* importing and use of python built-in mathematical modules.  For example, `math`,`random` and `itertools`\n",
    "\n",
    "---\n",
    "\n",
    "\n",
    "There are 7 questions worth a total of 30 marks.  The pass mark for the test is 15 marks.\n",
    "\n",
    "You are allowed to use any text editor or IDE. You are not allowed to use any other software, search the internet for answers or look at any othe reference material including a book.\n",
    "\n",
    "**Enjoy and good luck**"
   ]
  },
  {
   "cell_type": "markdown",
   "metadata": {},
   "source": [
    "### QUESTION 1  \n",
    "**[1 mark]**\n",
    "\n",
    "Write a python statement to display the sum of the values in the list:\n",
    "\n",
    "```python\n",
    "x = [3, 5, 9, 1]\n",
    "```\n",
    "\n",
    "**EXAMPLE ANSWER:**"
   ]
  },
  {
   "cell_type": "code",
   "execution_count": 1,
   "metadata": {},
   "outputs": [
    {
     "name": "stdout",
     "output_type": "stream",
     "text": [
      "18\n"
     ]
    }
   ],
   "source": [
    "x = [3, 5, 9, 1]\n",
    "print(sum(x))"
   ]
  },
  {
   "cell_type": "markdown",
   "metadata": {},
   "source": [
    "### QUESTION 2           \n",
    "**[3 marks]**\n",
    "\n",
    "Present value (PV) is a financial calculation to find the current value of a future sum of money or cash stream in today's money at a specific rate of return.\n",
    "\n",
    "**Write a function to calculate the present value of a future value.**\n",
    "\n",
    "The **present value** of a future value is calculated as follows:\n",
    "\n",
    "$$PV = \\dfrac{FV}{(1 + r)^n} $$\n",
    "\n",
    "Where **r** is rate of return and **FV** is the future value.\n",
    "\n",
    "Test case 1 (expected answer to 2dp = 1683.95)\n",
    "\n",
    "```python\n",
    "future_value = 2000\n",
    "rate = 0.035\n",
    "n = 5\n",
    "```\n",
    "\n",
    "Test case 12 (expected answer to 2dp = 316.85)\n",
    "\n",
    "```python\n",
    "future_value = 350\n",
    "rate = 0.01\n",
    "n = 10\n",
    "```\n",
    "\n",
    "**EXAMPLE ANSWER**"
   ]
  },
  {
   "cell_type": "code",
   "execution_count": 2,
   "metadata": {},
   "outputs": [],
   "source": [
    "def pv(future_value, rate, n):\n",
    "    '''\n",
    "    Discount a value at defined rate n time periods into the future.\n",
    "    \n",
    "    Forumula:\n",
    "    PV = FV / (1 + r)^n\n",
    "    Where\n",
    "    FV = future value\n",
    "    r = the interest rate\n",
    "    n = number of years in the future\n",
    "    \n",
    "    Params:\n",
    "    -------\n",
    "    future value: float,\n",
    "        The value to discount \n",
    "        \n",
    "    rate: float\n",
    "        the rate at which to do the discounting\n",
    "        \n",
    "    n: float,\n",
    "        the number of time periods into the future \n",
    "        \n",
    "    Returns:\n",
    "    --------\n",
    "    float\n",
    "    '''\n",
    "    return future_value / (1 + rate)**n"
   ]
  },
  {
   "cell_type": "code",
   "execution_count": 3,
   "metadata": {},
   "outputs": [
    {
     "name": "stdout",
     "output_type": "stream",
     "text": [
      "1683.95\n",
      "316.85\n"
     ]
    }
   ],
   "source": [
    "#Test case 1\n",
    "future_value = 2000\n",
    "rate = 0.035\n",
    "n = 5\n",
    "result = pv(future_value, rate, n)\n",
    "\n",
    "#results formatted to 2dp\n",
    "print(f'{result:.2f}')\n",
    "\n",
    "#Test case 2\n",
    "future_value = 350\n",
    "rate = 0.01\n",
    "n = 10\n",
    "result = pv(future_value, rate, n)\n",
    "\n",
    "#results formatted to 2dp\n",
    "print(f'{result:.2f}')"
   ]
  },
  {
   "cell_type": "markdown",
   "metadata": {},
   "source": [
    "### QUESTION 3: \n",
    "**[5 marks]**\n",
    "\n",
    "**Write a function called `fizzbuzz` that accepts an integer parameter `n`.  The function should check if `n` is multiple of 3, 5 or both. The function should return a string as specified below**  \n",
    "\n",
    "* If the number is a multiple of 3 return \"FIZZ\"\n",
    "* Else If the number is a multiple of 5 return \"BUZZ\"\n",
    "* Else If the number is a multiple of 3 AND 5 return \"FIZZBUZZ\"\n",
    "* Else return the number (cast as a string)\n",
    "\n",
    "**Input data to test**\n",
    "1, 3, 5, 15, 23\n",
    "\n",
    "**Expected Output**\n",
    "1, \"FIZZ\", \"BUZZ\", \"FIZZBUZZ\", \"23\"\n",
    "\n",
    "**EXAMPLE ANSWER**"
   ]
  },
  {
   "cell_type": "code",
   "execution_count": 4,
   "metadata": {},
   "outputs": [],
   "source": [
    "def fizzbuzz(n):\n",
    "    \"\"\"\n",
    "    Fizzbuzz game.\n",
    "    For multiples of three print \"Fizz\" instead of the number \n",
    "    and for the multiples of five print \"Buzz\". \n",
    "    For numbers which are multiples of both three and five print \"FizzBuzz\".\n",
    "    \n",
    "    Parameters:\n",
    "    -----------\n",
    "    n: int\n",
    "        The integer number to test\n",
    "        \n",
    "    Returns:\n",
    "    -------\n",
    "    str\n",
    "    \"\"\"\n",
    "    if n % 3 == 0 and n % 5 == 0:\n",
    "        return 'FIZZBUZZ'\n",
    "    elif n % 3 == 0:\n",
    "        return 'FIZZ'\n",
    "    elif n % 5 == 0:\n",
    "        return 'BUZZ' \n",
    "    else:\n",
    "        return str(n)"
   ]
  },
  {
   "cell_type": "code",
   "execution_count": 5,
   "metadata": {},
   "outputs": [
    {
     "name": "stdout",
     "output_type": "stream",
     "text": [
      "1\n",
      "FIZZ\n",
      "BUZZ\n",
      "FIZZBUZZ\n",
      "23\n"
     ]
    }
   ],
   "source": [
    "#test cases\n",
    "print(fizzbuzz(1))\n",
    "print(fizzbuzz(3))\n",
    "print(fizzbuzz(5))\n",
    "print(fizzbuzz(15))\n",
    "print(fizzbuzz(23))"
   ]
  },
  {
   "cell_type": "markdown",
   "metadata": {},
   "source": [
    "### QUESTION 4\n",
    "\n",
    "**[4 MARKS]**\n",
    "\n",
    "The function `convert_celsius_to_fahrenheit()` provided below accepts a float parameter `deg_celsius` that represents a temperature in degrees celsius.  Using the standard formula it calculates and returns a float representing the corresponding temperature in degrees fahrenheit.\n",
    "\n",
    "The list below represents a range of temperatures in degrees celsius that a researcher needs to convert into degrees fahrenheit. \n",
    "\n",
    "```python\n",
    "celsius = [39.2, 36.5, 37.3, 41.0]\n",
    "```\n",
    "\n",
    "Code a python programme that **creates a new list called `degrees_f`.**  The code must **loop** over the `celsius` list and repeatedly call `convert_celsius_to_fahrenheit` passing in the current list item in the iteration. Print the new list `degrees_f` (temperature in degrees fahrenheit) to the screen.\n",
    "\n",
    "**FUNCTIONS PROVIDED**"
   ]
  },
  {
   "cell_type": "code",
   "execution_count": 6,
   "metadata": {},
   "outputs": [],
   "source": [
    "def convert_celsius_to_fahrenheit(deg_celsius):\n",
    "    \"\"\"\n",
    "    Convert degress celsius to fahrenheit\n",
    "    Returns float value - temp in fahrenheit\n",
    "    \n",
    "    Parameters:\n",
    "    -----------\n",
    "    deg_celcius: float\n",
    "        temp in degrees celsius\n",
    "        \n",
    "    Returns:\n",
    "    -------\n",
    "    float\n",
    "    \"\"\"\n",
    "    return (9/5) * deg_celsius + 32"
   ]
  },
  {
   "cell_type": "code",
   "execution_count": 7,
   "metadata": {},
   "outputs": [],
   "source": [
    "#list of temps in degree celsius to convert to fahrenheit\n",
    "celsius = [39.2, 36.5, 37.3, 41.0]"
   ]
  },
  {
   "cell_type": "markdown",
   "metadata": {},
   "source": [
    "**EXAMPLE ANSWER 1**"
   ]
  },
  {
   "cell_type": "code",
   "execution_count": 8,
   "metadata": {},
   "outputs": [
    {
     "name": "stdout",
     "output_type": "stream",
     "text": [
      "[102.56, 97.7, 99.14, 105.8]\n"
     ]
    }
   ],
   "source": [
    "#solution using a for loop\n",
    "degrees_f = []\n",
    "for degrees_c in celsius:\n",
    "    result = convert_celsius_to_fahrenheit(degrees_c)\n",
    "    degrees_f.append(result)\n",
    "print(degrees_f)"
   ]
  },
  {
   "cell_type": "markdown",
   "metadata": {},
   "source": [
    "**EXAMPLE ANSWER 2**"
   ]
  },
  {
   "cell_type": "code",
   "execution_count": 9,
   "metadata": {},
   "outputs": [
    {
     "name": "stdout",
     "output_type": "stream",
     "text": [
      "[102.56, 97.7, 99.14, 105.8]\n"
     ]
    }
   ],
   "source": [
    "#solution using a list comprehension\n",
    "degrees_f = [convert_celsius_to_fahrenheit(degrees_c) for degrees_c in celsius]\n",
    "print(degrees_f)"
   ]
  },
  {
   "cell_type": "markdown",
   "metadata": {},
   "source": [
    "### QUESTION 5\n",
    "**[6 MARKS]**\n",
    "\n",
    "* Write a function that accepts a `List` of integers as a parameter and then finds and **returns** the maximum value in the list.  \n",
    "* Print the result to the screen.\n",
    "* You should not use the built-in python `max` function.\n",
    "\n",
    "**Input data:**\n",
    "\n",
    "* Create a `List` of integer values \n",
    "\n",
    "```python\n",
    "to_search = [0, 1000, 2, 999, 5, 100, 54]  \n",
    "```\n",
    "**Expected Output**\n",
    "* 1000"
   ]
  },
  {
   "cell_type": "code",
   "execution_count": 10,
   "metadata": {},
   "outputs": [],
   "source": [
    "import math\n",
    "\n",
    "def find_max(to_search):\n",
    "    '''\n",
    "    Simple iteration to find maximum value.\n",
    "    Assumes all items in to_search are numeric.\n",
    "    \n",
    "    Parameters:\n",
    "    -----------\n",
    "    to_search: array-like\n",
    "        a list of numeric values\n",
    "        \n",
    "    Returns: float\n",
    "        Maximum value from list\n",
    "    '''\n",
    "    #alternative: set to a very small number e.g. -99_999\n",
    "    current_max = -math.inf\n",
    "    \n",
    "    for item in to_search:  \n",
    "        if item > current_max:\n",
    "            current_max = item\n",
    "\n",
    "    return current_max"
   ]
  },
  {
   "cell_type": "code",
   "execution_count": 11,
   "metadata": {},
   "outputs": [
    {
     "name": "stdout",
     "output_type": "stream",
     "text": [
      "Max value is 1000\n"
     ]
    }
   ],
   "source": [
    "#test case\n",
    "to_search = [0, 1000, 2, 999, 5, 100, 54] \n",
    "result = find_max(to_search)\n",
    "print(f'Max value is {result}')"
   ]
  },
  {
   "cell_type": "markdown",
   "metadata": {},
   "source": [
    "### QUESTION 6\n",
    "\n",
    "**[5 marks]**\n",
    "\n",
    "The variable `list_of_lists` represents a multi-dimensional array i.e. it is a list containing smaller lists. \n",
    "\n",
    "```python\n",
    "list_of_lists = [[8, 2, 1], [9, 1, 2], [4, 5, 100]]\n",
    "```\n",
    "\n",
    "Code a python programme to **flatten** the list. The output of your programme should be a 1 dimensional list i.e.\n",
    "\n",
    "```\n",
    "result = [8, 2, 1, 9, 1, 2, 4, 5, 100]\n",
    "```\n",
    "\n",
    "**EXAMPLE SOLUTION 1:**"
   ]
  },
  {
   "cell_type": "code",
   "execution_count": 12,
   "metadata": {},
   "outputs": [
    {
     "name": "stdout",
     "output_type": "stream",
     "text": [
      "[8, 2, 1, 9, 1, 2, 4, 5, 100]\n"
     ]
    }
   ],
   "source": [
    "#Solution using a nested iteration\n",
    "list_of_lists = [[8, 2, 1], [9, 1, 2], [4, 5, 100]]\n",
    "\n",
    "flat_list = []\n",
    "for row in list_of_lists:\n",
    "    for col in row:\n",
    "        flat_list.append(col)\n",
    "\n",
    "print(flat_list)"
   ]
  },
  {
   "cell_type": "markdown",
   "metadata": {},
   "source": [
    "**EXAMPLE SOLUTION 2:**"
   ]
  },
  {
   "cell_type": "code",
   "execution_count": 13,
   "metadata": {},
   "outputs": [
    {
     "name": "stdout",
     "output_type": "stream",
     "text": [
      "[8, 2, 1, 9, 1, 2, 4, 5, 100]\n"
     ]
    }
   ],
   "source": [
    "#solution using a list comprehension\n",
    "list_of_lists = [[8, 2, 1], [9, 1, 2], [4, 5, 100]]\n",
    "flat_list = [item for sublist in list_of_lists for item in sublist]\n",
    "\n",
    "print(flat_list)"
   ]
  },
  {
   "cell_type": "markdown",
   "metadata": {},
   "source": [
    "**EXAMPLE SOLUTION 3:**"
   ]
  },
  {
   "cell_type": "code",
   "execution_count": 14,
   "metadata": {},
   "outputs": [
    {
     "name": "stdout",
     "output_type": "stream",
     "text": [
      "[8, 2, 1, 9, 1, 2, 4, 5, 100]\n"
     ]
    }
   ],
   "source": [
    "#solution using itertools\n",
    "import itertools\n",
    "\n",
    "list_of_lists = [[8, 2, 1], [9, 1, 2], [4, 5, 100]]\n",
    "flat_list = list(itertools.chain(*list_of_lists))\n",
    "\n",
    "print(flat_list)"
   ]
  },
  {
   "cell_type": "markdown",
   "metadata": {},
   "source": [
    "### QUESTION 7\n",
    "\n",
    "**[6 marks]**\n",
    "\n",
    "You are given a list of comics:\n",
    "\n",
    "```python\n",
    "comics = ['Iron-man', 'Captain America', 'Spider-man', 'Thor', 'Deadpool']\n",
    "```\n",
    "\n",
    "**Tasks:**\n",
    "\n",
    "* slice and then print the first and second list items\n",
    "* slices and the print the second to fourth list items\n",
    "* slice and then print the fourth and fifth list items\n",
    "* append \"Doctor Strange\" to the list. Print the updated list\n",
    "* insert \"Headpool\" before \"Deadpool\" in the list.  Print the updated list\n",
    "* delete \"Iron-man\". Print the updated list\n",
    "\n",
    "**EXAMPLE SOLUTION**"
   ]
  },
  {
   "cell_type": "code",
   "execution_count": 15,
   "metadata": {},
   "outputs": [
    {
     "name": "stdout",
     "output_type": "stream",
     "text": [
      "['Iron-man', 'Captain America']\n",
      "['Captain America', 'Spider-man', 'Thor']\n",
      "['Thor', 'Deadpool']\n",
      "['Captain America', 'Spider-man', 'Thor', 'Headpool', 'Deadpool', 'Doctor Strange']\n"
     ]
    }
   ],
   "source": [
    "comics = ['Iron-man', 'Captain America', 'Spider-man', 'Thor', 'Deadpool']\n",
    "\n",
    "first_two = comics[:2]         # slice the first and second list items\n",
    "middle_three = comics[1:4]     # slices the second to fourth list items\n",
    "last_two = comics[-2:]         # slice the fourth and fith list items\n",
    "\n",
    "#print answers\n",
    "print(first_two)\n",
    "print(middle_three)\n",
    "print(last_two)\n",
    "\n",
    "comics.append('Doctor Strange')   # append 'Doctor Strange' to the list\n",
    "comics.insert(4, 'Headpool')      # insert 'Headpool' before 'Deadpool'\n",
    "del comics[0]                     # delete #'Iron-man'\n",
    "print(comics)                     # print the updated list."
   ]
  }
 ],
 "metadata": {
  "kernelspec": {
   "display_name": "Python 3",
   "language": "python",
   "name": "python3"
  },
  "language_info": {
   "codemirror_mode": {
    "name": "ipython",
    "version": 3
   },
   "file_extension": ".py",
   "mimetype": "text/x-python",
   "name": "python",
   "nbconvert_exporter": "python",
   "pygments_lexer": "ipython3",
   "version": "3.8.8"
  }
 },
 "nbformat": 4,
 "nbformat_minor": 4
}
